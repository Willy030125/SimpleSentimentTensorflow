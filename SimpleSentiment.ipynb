{
 "cells": [
  {
   "cell_type": "markdown",
   "id": "14948012-8717-474e-a4c4-f04248a8868f",
   "metadata": {},
   "source": [
    "## Simple Customer Sentiment Analysis (NLP)\n",
    "<b>using Tensorflow and Keras' Bag of Words (BoW)</b>"
   ]
  },
  {
   "cell_type": "code",
   "execution_count": 1,
   "id": "7d557b70-6cf7-4deb-8968-85b7b1d66cf6",
   "metadata": {},
   "outputs": [],
   "source": [
    "from sklearn.preprocessing import OneHotEncoder\n",
    "import numpy as np\n",
    "import tensorflow as tf\n",
    "from tensorflow.keras.preprocessing.text import Tokenizer\n",
    "from tensorflow.keras.preprocessing.sequence import pad_sequences"
   ]
  },
  {
   "cell_type": "code",
   "execution_count": 2,
   "id": "f476b3b5-641a-43e9-9c48-2e7c517e99b4",
   "metadata": {},
   "outputs": [],
   "source": [
    "sentences = [\n",
    "    'Great service, the shipment is fast and the quality is good, thanks.',\n",
    "    'There is a damage to the goods, i have to return the shipment',\n",
    "    'The goods is exactly as ordered, fast respond seller, recommended',\n",
    "    'Excellent, thank you',\n",
    "    'Packaging broken, unfriendly seller, not recommended'\n",
    "]\n",
    "\n",
    "labels = [1,\n",
    "          0,\n",
    "          1,\n",
    "          1,\n",
    "          0]"
   ]
  },
  {
   "cell_type": "markdown",
   "id": "88351015-affe-41da-a1d6-4c1a809003cd",
   "metadata": {},
   "source": [
    "### Keras Bag of Words (BoW) Tokenizer and Word Sequences"
   ]
  },
  {
   "cell_type": "code",
   "execution_count": 3,
   "id": "39daa986-cba6-4122-8f70-92b67d5986b2",
   "metadata": {},
   "outputs": [],
   "source": [
    "tokenizer = Tokenizer(num_words=1000, oov_token=\"<UNK>\")"
   ]
  },
  {
   "cell_type": "code",
   "execution_count": 4,
   "id": "20f69b8f-cc3a-4fac-b960-673af07a91d3",
   "metadata": {},
   "outputs": [],
   "source": [
    "tokenizer.fit_on_texts(sentences)"
   ]
  },
  {
   "cell_type": "code",
   "execution_count": 5,
   "id": "0e1ef3e0-9b6b-4dde-a827-d90ff99c447f",
   "metadata": {},
   "outputs": [
    {
     "data": {
      "text/plain": [
       "{'<UNK>': 1,\n",
       " 'the': 2,\n",
       " 'is': 3,\n",
       " 'shipment': 4,\n",
       " 'fast': 5,\n",
       " 'to': 6,\n",
       " 'goods': 7,\n",
       " 'seller': 8,\n",
       " 'recommended': 9,\n",
       " 'great': 10,\n",
       " 'service': 11,\n",
       " 'and': 12,\n",
       " 'quality': 13,\n",
       " 'good': 14,\n",
       " 'thanks': 15,\n",
       " 'there': 16,\n",
       " 'a': 17,\n",
       " 'damage': 18,\n",
       " 'i': 19,\n",
       " 'have': 20,\n",
       " 'return': 21,\n",
       " 'exactly': 22,\n",
       " 'as': 23,\n",
       " 'ordered': 24,\n",
       " 'respond': 25,\n",
       " 'excellent': 26,\n",
       " 'thank': 27,\n",
       " 'you': 28,\n",
       " 'packaging': 29,\n",
       " 'broken': 30,\n",
       " 'unfriendly': 31,\n",
       " 'not': 32}"
      ]
     },
     "execution_count": 5,
     "metadata": {},
     "output_type": "execute_result"
    }
   ],
   "source": [
    "word_index = tokenizer.word_index\n",
    "word_index"
   ]
  },
  {
   "cell_type": "code",
   "execution_count": 6,
   "id": "0ae59d8f-53da-4ff9-a6c2-b110bd08c947",
   "metadata": {},
   "outputs": [
    {
     "data": {
      "text/plain": [
       "[[10, 11, 2, 4, 3, 5, 12, 2, 13, 3, 14, 15],\n",
       " [16, 3, 17, 18, 6, 2, 7, 19, 20, 6, 21, 2, 4],\n",
       " [2, 7, 3, 22, 23, 24, 5, 25, 8, 9],\n",
       " [26, 27, 28],\n",
       " [29, 30, 31, 8, 32, 9]]"
      ]
     },
     "execution_count": 6,
     "metadata": {},
     "output_type": "execute_result"
    }
   ],
   "source": [
    "sequences = tokenizer.texts_to_sequences(sentences)\n",
    "sequences"
   ]
  },
  {
   "cell_type": "code",
   "execution_count": 7,
   "id": "56336763-a7d1-410f-b4fc-85c08e032438",
   "metadata": {},
   "outputs": [
    {
     "data": {
      "text/plain": [
       "array([[10, 11,  2,  4,  3,  5, 12,  2, 13,  3, 14, 15,  0],\n",
       "       [16,  3, 17, 18,  6,  2,  7, 19, 20,  6, 21,  2,  4],\n",
       "       [ 2,  7,  3, 22, 23, 24,  5, 25,  8,  9,  0,  0,  0],\n",
       "       [26, 27, 28,  0,  0,  0,  0,  0,  0,  0,  0,  0,  0],\n",
       "       [29, 30, 31,  8, 32,  9,  0,  0,  0,  0,  0,  0,  0]], dtype=int32)"
      ]
     },
     "execution_count": 7,
     "metadata": {},
     "output_type": "execute_result"
    }
   ],
   "source": [
    "padded = pad_sequences(sequences, padding='post', truncating='post')\n",
    "padded"
   ]
  },
  {
   "cell_type": "code",
   "execution_count": 8,
   "id": "17c5655d-0d61-4069-a8b2-2671e4decef9",
   "metadata": {},
   "outputs": [
    {
     "data": {
      "text/plain": [
       "13"
      ]
     },
     "execution_count": 8,
     "metadata": {},
     "output_type": "execute_result"
    }
   ],
   "source": [
    "pad_length = len(padded[0])\n",
    "pad_length"
   ]
  },
  {
   "cell_type": "code",
   "execution_count": 9,
   "id": "c4ec2613-97d2-4c94-8a66-315522481421",
   "metadata": {},
   "outputs": [
    {
     "data": {
      "text/plain": [
       "array([1, 0, 1, 1, 0])"
      ]
     },
     "execution_count": 9,
     "metadata": {},
     "output_type": "execute_result"
    }
   ],
   "source": [
    "labels = np.array(labels)\n",
    "labels"
   ]
  },
  {
   "cell_type": "code",
   "execution_count": 10,
   "id": "9e532656-c322-4c32-ae0d-47e9ac3527e0",
   "metadata": {},
   "outputs": [],
   "source": [
    "x = padded"
   ]
  },
  {
   "cell_type": "markdown",
   "id": "ab886d74-ad12-4408-9d6f-a43a4fbc4f6b",
   "metadata": {},
   "source": [
    "### One-hot Encoding"
   ]
  },
  {
   "cell_type": "code",
   "execution_count": 11,
   "id": "b6050cdd-d157-4eac-80e1-af359dc792f2",
   "metadata": {},
   "outputs": [],
   "source": [
    "enc = OneHotEncoder(sparse=False)\n",
    "y = enc.fit_transform(labels.reshape(-1, 1))"
   ]
  },
  {
   "cell_type": "code",
   "execution_count": 12,
   "id": "e1643a5c-2286-44fc-a43c-6834faeb948d",
   "metadata": {},
   "outputs": [
    {
     "data": {
      "text/plain": [
       "array([[0., 1.],\n",
       "       [1., 0.],\n",
       "       [0., 1.],\n",
       "       [0., 1.],\n",
       "       [1., 0.]])"
      ]
     },
     "execution_count": 12,
     "metadata": {},
     "output_type": "execute_result"
    }
   ],
   "source": [
    "y"
   ]
  },
  {
   "cell_type": "markdown",
   "id": "1fe59b14-9a40-48b9-891c-c6ca43ac7bf5",
   "metadata": {},
   "source": [
    "### Tensorflow Dense layers (Deep Neural Network layers)"
   ]
  },
  {
   "cell_type": "code",
   "execution_count": 13,
   "id": "39a97455-c559-49d4-9ca0-65b2c1b72969",
   "metadata": {},
   "outputs": [],
   "source": [
    "model = tf.keras.Sequential([\n",
    "    tf.keras.layers.Dense(16, activation='relu'),\n",
    "    tf.keras.layers.Dense(64, activation='relu'),\n",
    "    tf.keras.layers.Dense(64, activation='relu'),\n",
    "    tf.keras.layers.Dense(2, activation='softmax')\n",
    "])"
   ]
  },
  {
   "cell_type": "code",
   "execution_count": 14,
   "id": "02811df6-cfd6-4524-8b16-d2a8843867f8",
   "metadata": {},
   "outputs": [],
   "source": [
    "model.compile(optimizer='adam',\n",
    "              loss='categorical_crossentropy',\n",
    "              metrics=['accuracy'])"
   ]
  },
  {
   "cell_type": "code",
   "execution_count": 15,
   "id": "9580b2b3-985a-4993-bb9f-55cdecdf49a7",
   "metadata": {},
   "outputs": [
    {
     "name": "stdout",
     "output_type": "stream",
     "text": [
      "Epoch 1/120\n",
      "1/1 [==============================] - 1s 555ms/step - loss: 1.5440 - accuracy: 0.6000\n",
      "Epoch 2/120\n",
      "1/1 [==============================] - 0s 4ms/step - loss: 1.1575 - accuracy: 0.6000\n",
      "Epoch 3/120\n",
      "1/1 [==============================] - 0s 3ms/step - loss: 0.7987 - accuracy: 0.6000\n",
      "Epoch 4/120\n",
      "1/1 [==============================] - 0s 3ms/step - loss: 0.5157 - accuracy: 0.6000\n",
      "Epoch 5/120\n",
      "1/1 [==============================] - 0s 4ms/step - loss: 0.3879 - accuracy: 0.8000\n",
      "Epoch 6/120\n",
      "1/1 [==============================] - 0s 3ms/step - loss: 0.3531 - accuracy: 0.8000\n",
      "Epoch 7/120\n",
      "1/1 [==============================] - 0s 3ms/step - loss: 0.3159 - accuracy: 0.8000\n",
      "Epoch 8/120\n",
      "1/1 [==============================] - 0s 3ms/step - loss: 0.2739 - accuracy: 0.8000\n",
      "Epoch 9/120\n",
      "1/1 [==============================] - 0s 3ms/step - loss: 0.2304 - accuracy: 0.8000\n",
      "Epoch 10/120\n",
      "1/1 [==============================] - 0s 3ms/step - loss: 0.1886 - accuracy: 0.8000\n",
      "Epoch 11/120\n",
      "1/1 [==============================] - 0s 3ms/step - loss: 0.1511 - accuracy: 1.0000\n",
      "Epoch 12/120\n",
      "1/1 [==============================] - 0s 3ms/step - loss: 0.1205 - accuracy: 1.0000\n",
      "Epoch 13/120\n",
      "1/1 [==============================] - 0s 3ms/step - loss: 0.0964 - accuracy: 1.0000\n",
      "Epoch 14/120\n",
      "1/1 [==============================] - 0s 3ms/step - loss: 0.0776 - accuracy: 1.0000\n",
      "Epoch 15/120\n",
      "1/1 [==============================] - 0s 3ms/step - loss: 0.0643 - accuracy: 1.0000\n",
      "Epoch 16/120\n",
      "1/1 [==============================] - 0s 3ms/step - loss: 0.0543 - accuracy: 1.0000\n",
      "Epoch 17/120\n",
      "1/1 [==============================] - 0s 3ms/step - loss: 0.0474 - accuracy: 1.0000\n",
      "Epoch 18/120\n",
      "1/1 [==============================] - 0s 3ms/step - loss: 0.0427 - accuracy: 1.0000\n",
      "Epoch 19/120\n",
      "1/1 [==============================] - 0s 3ms/step - loss: 0.0392 - accuracy: 1.0000\n",
      "Epoch 20/120\n",
      "1/1 [==============================] - 0s 3ms/step - loss: 0.0362 - accuracy: 1.0000\n",
      "Epoch 21/120\n",
      "1/1 [==============================] - 0s 3ms/step - loss: 0.0335 - accuracy: 1.0000\n",
      "Epoch 22/120\n",
      "1/1 [==============================] - 0s 3ms/step - loss: 0.0307 - accuracy: 1.0000\n",
      "Epoch 23/120\n",
      "1/1 [==============================] - 0s 3ms/step - loss: 0.0278 - accuracy: 1.0000\n",
      "Epoch 24/120\n",
      "1/1 [==============================] - 0s 3ms/step - loss: 0.0247 - accuracy: 1.0000\n",
      "Epoch 25/120\n",
      "1/1 [==============================] - 0s 3ms/step - loss: 0.0220 - accuracy: 1.0000\n",
      "Epoch 26/120\n",
      "1/1 [==============================] - 0s 3ms/step - loss: 0.0195 - accuracy: 1.0000\n",
      "Epoch 27/120\n",
      "1/1 [==============================] - 0s 3ms/step - loss: 0.0171 - accuracy: 1.0000\n",
      "Epoch 28/120\n",
      "1/1 [==============================] - 0s 3ms/step - loss: 0.0151 - accuracy: 1.0000\n",
      "Epoch 29/120\n",
      "1/1 [==============================] - 0s 3ms/step - loss: 0.0133 - accuracy: 1.0000\n",
      "Epoch 30/120\n",
      "1/1 [==============================] - 0s 3ms/step - loss: 0.0118 - accuracy: 1.0000\n",
      "Epoch 31/120\n",
      "1/1 [==============================] - 0s 3ms/step - loss: 0.0105 - accuracy: 1.0000\n",
      "Epoch 32/120\n",
      "1/1 [==============================] - 0s 3ms/step - loss: 0.0095 - accuracy: 1.0000\n",
      "Epoch 33/120\n",
      "1/1 [==============================] - 0s 3ms/step - loss: 0.0086 - accuracy: 1.0000\n",
      "Epoch 34/120\n",
      "1/1 [==============================] - 0s 3ms/step - loss: 0.0078 - accuracy: 1.0000\n",
      "Epoch 35/120\n",
      "1/1 [==============================] - 0s 3ms/step - loss: 0.0072 - accuracy: 1.0000\n",
      "Epoch 36/120\n",
      "1/1 [==============================] - 0s 3ms/step - loss: 0.0066 - accuracy: 1.0000\n",
      "Epoch 37/120\n",
      "1/1 [==============================] - 0s 3ms/step - loss: 0.0062 - accuracy: 1.0000\n",
      "Epoch 38/120\n",
      "1/1 [==============================] - 0s 3ms/step - loss: 0.0058 - accuracy: 1.0000\n",
      "Epoch 39/120\n",
      "1/1 [==============================] - 0s 3ms/step - loss: 0.0054 - accuracy: 1.0000\n",
      "Epoch 40/120\n",
      "1/1 [==============================] - 0s 3ms/step - loss: 0.0052 - accuracy: 1.0000\n",
      "Epoch 41/120\n",
      "1/1 [==============================] - 0s 3ms/step - loss: 0.0049 - accuracy: 1.0000\n",
      "Epoch 42/120\n",
      "1/1 [==============================] - 0s 3ms/step - loss: 0.0047 - accuracy: 1.0000\n",
      "Epoch 43/120\n",
      "1/1 [==============================] - 0s 3ms/step - loss: 0.0044 - accuracy: 1.0000\n",
      "Epoch 44/120\n",
      "1/1 [==============================] - 0s 3ms/step - loss: 0.0042 - accuracy: 1.0000\n",
      "Epoch 45/120\n",
      "1/1 [==============================] - 0s 3ms/step - loss: 0.0041 - accuracy: 1.0000\n",
      "Epoch 46/120\n",
      "1/1 [==============================] - 0s 3ms/step - loss: 0.0039 - accuracy: 1.0000\n",
      "Epoch 47/120\n",
      "1/1 [==============================] - 0s 3ms/step - loss: 0.0038 - accuracy: 1.0000\n",
      "Epoch 48/120\n",
      "1/1 [==============================] - 0s 3ms/step - loss: 0.0036 - accuracy: 1.0000\n",
      "Epoch 49/120\n",
      "1/1 [==============================] - 0s 3ms/step - loss: 0.0035 - accuracy: 1.0000\n",
      "Epoch 50/120\n",
      "1/1 [==============================] - 0s 3ms/step - loss: 0.0034 - accuracy: 1.0000\n",
      "Epoch 51/120\n",
      "1/1 [==============================] - 0s 3ms/step - loss: 0.0032 - accuracy: 1.0000\n",
      "Epoch 52/120\n",
      "1/1 [==============================] - 0s 3ms/step - loss: 0.0031 - accuracy: 1.0000\n",
      "Epoch 53/120\n",
      "1/1 [==============================] - 0s 3ms/step - loss: 0.0030 - accuracy: 1.0000\n",
      "Epoch 54/120\n",
      "1/1 [==============================] - 0s 3ms/step - loss: 0.0029 - accuracy: 1.0000\n",
      "Epoch 55/120\n",
      "1/1 [==============================] - 0s 3ms/step - loss: 0.0028 - accuracy: 1.0000\n",
      "Epoch 56/120\n",
      "1/1 [==============================] - 0s 3ms/step - loss: 0.0028 - accuracy: 1.0000\n",
      "Epoch 57/120\n",
      "1/1 [==============================] - 0s 4ms/step - loss: 0.0027 - accuracy: 1.0000\n",
      "Epoch 58/120\n",
      "1/1 [==============================] - 0s 3ms/step - loss: 0.0026 - accuracy: 1.0000\n",
      "Epoch 59/120\n",
      "1/1 [==============================] - 0s 3ms/step - loss: 0.0025 - accuracy: 1.0000\n",
      "Epoch 60/120\n",
      "1/1 [==============================] - 0s 3ms/step - loss: 0.0024 - accuracy: 1.0000\n",
      "Epoch 61/120\n",
      "1/1 [==============================] - 0s 3ms/step - loss: 0.0024 - accuracy: 1.0000\n",
      "Epoch 62/120\n",
      "1/1 [==============================] - 0s 3ms/step - loss: 0.0023 - accuracy: 1.0000\n",
      "Epoch 63/120\n",
      "1/1 [==============================] - 0s 3ms/step - loss: 0.0023 - accuracy: 1.0000\n",
      "Epoch 64/120\n",
      "1/1 [==============================] - 0s 3ms/step - loss: 0.0022 - accuracy: 1.0000\n",
      "Epoch 65/120\n",
      "1/1 [==============================] - 0s 2ms/step - loss: 0.0021 - accuracy: 1.0000\n",
      "Epoch 66/120\n",
      "1/1 [==============================] - 0s 3ms/step - loss: 0.0021 - accuracy: 1.0000\n",
      "Epoch 67/120\n",
      "1/1 [==============================] - 0s 3ms/step - loss: 0.0020 - accuracy: 1.0000\n",
      "Epoch 68/120\n",
      "1/1 [==============================] - 0s 4ms/step - loss: 0.0020 - accuracy: 1.0000\n",
      "Epoch 69/120\n",
      "1/1 [==============================] - 0s 3ms/step - loss: 0.0019 - accuracy: 1.0000\n",
      "Epoch 70/120\n",
      "1/1 [==============================] - 0s 3ms/step - loss: 0.0019 - accuracy: 1.0000\n",
      "Epoch 71/120\n",
      "1/1 [==============================] - 0s 3ms/step - loss: 0.0019 - accuracy: 1.0000\n",
      "Epoch 72/120\n",
      "1/1 [==============================] - 0s 3ms/step - loss: 0.0018 - accuracy: 1.0000\n",
      "Epoch 73/120\n",
      "1/1 [==============================] - 0s 3ms/step - loss: 0.0018 - accuracy: 1.0000\n",
      "Epoch 74/120\n",
      "1/1 [==============================] - 0s 3ms/step - loss: 0.0017 - accuracy: 1.0000\n",
      "Epoch 75/120\n",
      "1/1 [==============================] - 0s 3ms/step - loss: 0.0017 - accuracy: 1.0000\n",
      "Epoch 76/120\n",
      "1/1 [==============================] - 0s 3ms/step - loss: 0.0016 - accuracy: 1.0000\n",
      "Epoch 77/120\n",
      "1/1 [==============================] - 0s 3ms/step - loss: 0.0016 - accuracy: 1.0000\n",
      "Epoch 78/120\n",
      "1/1 [==============================] - 0s 3ms/step - loss: 0.0016 - accuracy: 1.0000\n",
      "Epoch 79/120\n",
      "1/1 [==============================] - 0s 3ms/step - loss: 0.0015 - accuracy: 1.0000\n",
      "Epoch 80/120\n",
      "1/1 [==============================] - 0s 3ms/step - loss: 0.0015 - accuracy: 1.0000\n",
      "Epoch 81/120\n",
      "1/1 [==============================] - 0s 3ms/step - loss: 0.0015 - accuracy: 1.0000\n",
      "Epoch 82/120\n",
      "1/1 [==============================] - 0s 3ms/step - loss: 0.0014 - accuracy: 1.0000\n",
      "Epoch 83/120\n",
      "1/1 [==============================] - 0s 3ms/step - loss: 0.0014 - accuracy: 1.0000\n",
      "Epoch 84/120\n",
      "1/1 [==============================] - 0s 3ms/step - loss: 0.0014 - accuracy: 1.0000\n",
      "Epoch 85/120\n",
      "1/1 [==============================] - 0s 3ms/step - loss: 0.0013 - accuracy: 1.0000\n",
      "Epoch 86/120\n",
      "1/1 [==============================] - 0s 4ms/step - loss: 0.0013 - accuracy: 1.0000\n",
      "Epoch 87/120\n",
      "1/1 [==============================] - 0s 3ms/step - loss: 0.0013 - accuracy: 1.0000\n",
      "Epoch 88/120\n",
      "1/1 [==============================] - 0s 3ms/step - loss: 0.0012 - accuracy: 1.0000\n",
      "Epoch 89/120\n",
      "1/1 [==============================] - 0s 3ms/step - loss: 0.0012 - accuracy: 1.0000\n",
      "Epoch 90/120\n",
      "1/1 [==============================] - 0s 3ms/step - loss: 0.0012 - accuracy: 1.0000\n",
      "Epoch 91/120\n",
      "1/1 [==============================] - 0s 3ms/step - loss: 0.0012 - accuracy: 1.0000\n",
      "Epoch 92/120\n",
      "1/1 [==============================] - 0s 3ms/step - loss: 0.0011 - accuracy: 1.0000\n",
      "Epoch 93/120\n",
      "1/1 [==============================] - 0s 3ms/step - loss: 0.0011 - accuracy: 1.0000\n",
      "Epoch 94/120\n",
      "1/1 [==============================] - 0s 3ms/step - loss: 0.0011 - accuracy: 1.0000\n",
      "Epoch 95/120\n",
      "1/1 [==============================] - 0s 3ms/step - loss: 0.0011 - accuracy: 1.0000\n",
      "Epoch 96/120\n",
      "1/1 [==============================] - 0s 3ms/step - loss: 0.0010 - accuracy: 1.0000\n",
      "Epoch 97/120\n",
      "1/1 [==============================] - 0s 3ms/step - loss: 0.0010 - accuracy: 1.0000\n",
      "Epoch 98/120\n",
      "1/1 [==============================] - 0s 3ms/step - loss: 9.9545e-04 - accuracy: 1.0000\n",
      "Epoch 99/120\n",
      "1/1 [==============================] - 0s 3ms/step - loss: 9.7570e-04 - accuracy: 1.0000\n",
      "Epoch 100/120\n",
      "1/1 [==============================] - 0s 3ms/step - loss: 9.5664e-04 - accuracy: 1.0000\n",
      "Epoch 101/120\n",
      "1/1 [==============================] - 0s 3ms/step - loss: 9.3796e-04 - accuracy: 1.0000\n",
      "Epoch 102/120\n",
      "1/1 [==============================] - 0s 3ms/step - loss: 9.1980e-04 - accuracy: 1.0000\n",
      "Epoch 103/120\n",
      "1/1 [==============================] - 0s 3ms/step - loss: 9.0226e-04 - accuracy: 1.0000\n",
      "Epoch 104/120\n",
      "1/1 [==============================] - 0s 3ms/step - loss: 8.8536e-04 - accuracy: 1.0000\n",
      "Epoch 105/120\n",
      "1/1 [==============================] - 0s 3ms/step - loss: 8.7013e-04 - accuracy: 1.0000\n",
      "Epoch 106/120\n",
      "1/1 [==============================] - 0s 3ms/step - loss: 8.5542e-04 - accuracy: 1.0000\n",
      "Epoch 107/120\n",
      "1/1 [==============================] - 0s 3ms/step - loss: 8.4085e-04 - accuracy: 1.0000\n",
      "Epoch 108/120\n",
      "1/1 [==============================] - 0s 3ms/step - loss: 8.2664e-04 - accuracy: 1.0000\n",
      "Epoch 109/120\n",
      "1/1 [==============================] - 0s 3ms/step - loss: 8.1307e-04 - accuracy: 1.0000\n",
      "Epoch 110/120\n",
      "1/1 [==============================] - 0s 3ms/step - loss: 7.9940e-04 - accuracy: 1.0000\n",
      "Epoch 111/120\n",
      "1/1 [==============================] - 0s 3ms/step - loss: 7.8652e-04 - accuracy: 1.0000\n",
      "Epoch 112/120\n",
      "1/1 [==============================] - 0s 3ms/step - loss: 7.7326e-04 - accuracy: 1.0000\n",
      "Epoch 113/120\n",
      "1/1 [==============================] - 0s 3ms/step - loss: 7.6048e-04 - accuracy: 1.0000\n",
      "Epoch 114/120\n",
      "1/1 [==============================] - 0s 4ms/step - loss: 7.4800e-04 - accuracy: 1.0000\n",
      "Epoch 115/120\n",
      "1/1 [==============================] - 0s 4ms/step - loss: 7.3586e-04 - accuracy: 1.0000\n",
      "Epoch 116/120\n",
      "1/1 [==============================] - 0s 3ms/step - loss: 7.2381e-04 - accuracy: 1.0000\n",
      "Epoch 117/120\n",
      "1/1 [==============================] - 0s 3ms/step - loss: 7.1214e-04 - accuracy: 1.0000\n",
      "Epoch 118/120\n",
      "1/1 [==============================] - 0s 3ms/step - loss: 7.0061e-04 - accuracy: 1.0000\n",
      "Epoch 119/120\n",
      "1/1 [==============================] - 0s 3ms/step - loss: 6.8942e-04 - accuracy: 1.0000\n",
      "Epoch 120/120\n",
      "1/1 [==============================] - 0s 3ms/step - loss: 6.7837e-04 - accuracy: 1.0000\n"
     ]
    },
    {
     "data": {
      "text/plain": [
       "<keras.callbacks.History at 0xffff4822eca0>"
      ]
     },
     "execution_count": 15,
     "metadata": {},
     "output_type": "execute_result"
    }
   ],
   "source": [
    "model.fit(x, y, epochs=120)"
   ]
  },
  {
   "cell_type": "markdown",
   "id": "8c07bca2-88d6-495d-bc7b-ab0ba1992fdf",
   "metadata": {},
   "source": [
    "### Test data"
   ]
  },
  {
   "cell_type": "code",
   "execution_count": 16,
   "id": "da720f23-66aa-4ebc-b453-baa6367a7938",
   "metadata": {},
   "outputs": [],
   "source": [
    "test_data = [\n",
    "    'Bad quality, i must return the goods, not recommended',\n",
    "    'Thanks, good quality product'\n",
    "]"
   ]
  },
  {
   "cell_type": "code",
   "execution_count": 17,
   "id": "97715f60-5714-4b95-ba97-0667ecabb55f",
   "metadata": {},
   "outputs": [
    {
     "data": {
      "text/plain": [
       "[[1, 13, 19, 1, 21, 2, 7, 32, 9], [15, 14, 13, 1]]"
      ]
     },
     "execution_count": 17,
     "metadata": {},
     "output_type": "execute_result"
    }
   ],
   "source": [
    "test_seq = tokenizer.texts_to_sequences(test_data)\n",
    "test_seq"
   ]
  },
  {
   "cell_type": "code",
   "execution_count": 18,
   "id": "28630b2a-b723-49a0-9fe2-95c9f02889e2",
   "metadata": {},
   "outputs": [
    {
     "data": {
      "text/plain": [
       "array([[ 1, 13, 19,  1, 21,  2,  7, 32,  9,  0,  0,  0,  0],\n",
       "       [15, 14, 13,  1,  0,  0,  0,  0,  0,  0,  0,  0,  0]], dtype=int32)"
      ]
     },
     "execution_count": 18,
     "metadata": {},
     "output_type": "execute_result"
    }
   ],
   "source": [
    "test_pad = pad_sequences(test_seq, padding='post', truncating='post', maxlen=pad_length)\n",
    "test_pad"
   ]
  },
  {
   "cell_type": "code",
   "execution_count": 19,
   "id": "906aa8a7-2077-417f-9fcf-be30f4bdf672",
   "metadata": {},
   "outputs": [
    {
     "data": {
      "text/plain": [
       "array([[0.8678486 , 0.13215142],\n",
       "       [0.02217277, 0.97782725]], dtype=float32)"
      ]
     },
     "execution_count": 19,
     "metadata": {},
     "output_type": "execute_result"
    }
   ],
   "source": [
    "result = model.predict(test_pad)\n",
    "result"
   ]
  },
  {
   "cell_type": "code",
   "execution_count": 20,
   "id": "a2a20cb0-66ff-47d4-a17c-cd26b7f7d09e",
   "metadata": {},
   "outputs": [
    {
     "data": {
      "text/plain": [
       "array([[1., 0.],\n",
       "       [0., 1.]], dtype=float32)"
      ]
     },
     "execution_count": 20,
     "metadata": {},
     "output_type": "execute_result"
    }
   ],
   "source": [
    "np.round(result)"
   ]
  },
  {
   "cell_type": "markdown",
   "id": "f8e5319e-c12b-46cf-ad2a-d5ebf7ec3dad",
   "metadata": {},
   "source": [
    "Label:<br>\n",
    "[1, 0] = Negative<br>\n",
    "[0, 1] = Positive<br>"
   ]
  },
  {
   "cell_type": "code",
   "execution_count": null,
   "id": "5b59f105-a57c-4ec4-99a2-ab40ab644ccf",
   "metadata": {},
   "outputs": [],
   "source": []
  }
 ],
 "metadata": {
  "kernelspec": {
   "display_name": "Python 3 (ipykernel)",
   "language": "python",
   "name": "python3"
  },
  "language_info": {
   "codemirror_mode": {
    "name": "ipython",
    "version": 3
   },
   "file_extension": ".py",
   "mimetype": "text/x-python",
   "name": "python",
   "nbconvert_exporter": "python",
   "pygments_lexer": "ipython3",
   "version": "3.8.10"
  }
 },
 "nbformat": 4,
 "nbformat_minor": 5
}
